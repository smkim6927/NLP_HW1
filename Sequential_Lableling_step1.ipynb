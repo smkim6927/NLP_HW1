{
 "cells": [
  {
   "cell_type": "markdown",
   "source": [
    "#  Sequential Labeling Input Transform\n",
    "\n",
    "Sequential labeling is a form of most of the problems to obtain special information in natural languages we use, such as Korean and English, and is a representative problem to solve symbols with abstract meaning in machine learning.\n",
    "\n",
    "Data consisting of arbitrary symbols and labels are provided to verify the ability to construct a model for the format of the problem, rather than solving it with analysis of special domain-specific knowledge or qualities.\n",
    "\n",
    "It verifies the ability to implement a method of configuring a model to receive sequential input of symbols.\n",
    "\n",
    "1. One-Hot Representation\n",
    "2. Trainable Word Embedding\n",
    "\n",
    "### Method\n",
    "1. The one-hot representation gives one symbol the only numeric ID, has only 1 value corresponding to that ID, and the rest is expressed as a vector with 0. The maximum length per symbol has a set maximum length that is used in the training set or larger in dimensions.\n",
    "\n",
    "2. One-hot consists of vectors with continuous values in small dimensions, as the maximum length increases with more vocabulary. In addition, inputs with similar information are learned so that they can be gathered. For learning, we put vectors representing symbols as a set of model parameters and learn dictionaries like network parameters by connecting parameters according to the symbol's ID.\n",
    "\n",
    "### Train Dataset\n",
    "\n",
    "In this problem, test data is used the same as learning data to exclude verification of the model's generalization technology.\n",
    " * train set: simple_seq.train.csv\n",
    " * test set: simple_seq.test.csv\n",
    "\n",
    "Input: Sequential Symbol (sequence, different length.)\n",
    "Output: Class label\n",
    "\n",
    "Input and output refer to objects that should be put in observational information from the perspective of the model and objects that should be predicted.\n",
    "\n",
    "Fixed hyper-parameters.\n",
    "* Number of class label : 19\n",
    "* Input max length : 20\n",
    "\n",
    "\n",
    "### Example\n",
    "Each line of the learning data file represents one input observation information and output label information.\n",
    "\n",
    "For example, all symbols starting with 'W' in the following samples are inputs. Class label that symbol starting with 'D' should predict.\n",
    "\n",
    "W25,W26,W27,W19,W28,W29,W30,W31,W32,W33,W34,W35,W36,W37,W38,W39,W24,W40,D11\n",
    "\n",
    "Input: W25,W26,W27,W19,W28,W29,W30,W31,W32,W33,W34,W35,W36,W37,W38,W39,W24,W40\n",
    "\n",
    "Output: D11"
   ],
   "metadata": {
    "collapsed": false
   }
  },
  {
   "cell_type": "markdown",
   "source": [
    "## Language\n",
    "\n",
    "Choose the initial code according to your preferred language among Python and R.\n",
    "If you prefer Python, you can leave the Python initial code, and if you prefer R, you can leave the R initial code.\n"
   ],
   "metadata": {
    "collapsed": false
   }
  },
  {
   "cell_type": "code",
   "source": [
    "# Language - python\n",
    "import pandas as pd\n",
    "\n",
    "# Data Loader\n",
    "train = pd.read_csv('./data/redwine_train.csv')\n",
    "test = pd.read_csv('./data/redwine_test.csv')\n",
    "\n",
    "train.head()"
   ],
   "metadata": {
    "collapsed": false,
    "pycharm": {
     "name": "#%%\n"
    }
   },
   "execution_count": null,
   "outputs": []
  },
  {
   "cell_type": "code",
   "source": [
    "# Language - R\n",
    "\n",
    "# Data Loader\n",
    "train <- read.csv('./data/redwine_train.csv')\n",
    "test <- read.csv('./data/redwine_test.csv')\n",
    "\n",
    "head(train)"
   ],
   "metadata": {
    "collapsed": false,
    "pycharm": {
     "name": "#%%\n"
    }
   },
   "execution_count": null,
   "outputs": []
  },
  {
   "cell_type": "markdown",
   "source": [
    "## Problems and Submission Files\n",
    "\n",
    "The purpose of this problem is to verify the ability to implement the part of connecting variable symbol sequences to the model after the vectorization process from basic file input to use them in neural network models.\n",
    "\n",
    "To simplify the verification environment, the model implements a 3-layer feedforward network consisting of the following techniques:\n",
    "\n",
    "An input is a long vector with vectors representing symbols attached (concatenate).\n",
    "\n",
    "Model Details:\n",
    "- batch normalization\n",
    "- Xavier or He initialization\n",
    "- cross-entropy loss\n",
    "- sigmoid activation function\n",
    "- learning rate scheduling\n",
    "- stochastic gradient descent\n",
    "\n",
    "Example of Model Setting:\n",
    "- learning rate : 0.1\n",
    "- weight decay : 0.99\n",
    "- (data_input, hidden layer 1, hidden layer 2, output) = (vocabulary size x maximum length, 1000, 100, 19)\n",
    "- (data_input, hidden layer 1, hidden layer 2, output) = (embedding vector dimension x maximum length, 1000, 100, 19)\n",
    "\n",
    "\n",
    "\n",
    "### Problem 1 - symbol sequence input by one-hot representation\n",
    "\n",
    "1. Load input symbol sequence\n",
    "2. Generate dictionary and transform all the symbols of symbol sequence into One-hot representation\n",
    "3. Vactorize symbol sequence\n",
    "4. Padding (set different input length being same: add zero vector)\n",
    "5. Design 3-layer feedforward network\n",
    "\n",
    "### Problem 2 - symbol sequence input by trainable embedding\n",
    "\n",
    "1. Load input symbol sequence\n",
    "2. Replace generated dictionary into trainable word embedding\n",
    "3. Vactorize symbol sequence\n",
    "4. Padding (set different input length being same: add zero vector)\n",
    "5. Design 3-layer feedforward network\n",
    "\n",
    "\n",
    "### Score\n",
    "If you show 100% accuracy based on the test set, you pass.\n",
    "(Without the need for special generalization skills, 100% of the learning set is achievable.)"
   ],
   "metadata": {
    "collapsed": false,
    "pycharm": {
     "name": "#%% md\n"
    }
   }
  },
  {
   "cell_type": "markdown",
   "source": [
    "\n",
    "## Result\n",
    "\n",
    "For scoring, please save the data obtained above under the name 'student ID_name_simple_seq.answer.csv' in the same directory as the current file (directory where the.ipynb file is located)."
   ],
   "metadata": {
    "collapsed": false
   }
  },
  {
   "cell_type": "code",
   "execution_count": null,
   "outputs": [],
   "source": [
    "# csv example - python\n",
    "df.to_csv('student ID_name_simple_seq.answer.csv')"
   ],
   "metadata": {
    "collapsed": false,
    "pycharm": {
     "name": "#%%\n"
    }
   }
  },
  {
   "cell_type": "code",
   "execution_count": null,
   "outputs": [],
   "source": [
    "# csv example - R\n",
    "write.csv(df, file='student ID_name_simple_seq.answer.csv')"
   ],
   "metadata": {
    "collapsed": false,
    "pycharm": {
     "name": "#%%\n"
    }
   }
  }
 ],
 "metadata": {
  "kernelspec": {
   "display_name": "Python 3",
   "language": "python",
   "name": "python3"
  },
  "language_info": {
   "codemirror_mode": {
    "name": "ipython",
    "version": 2
   },
   "file_extension": ".py",
   "mimetype": "text/x-python",
   "name": "python",
   "nbconvert_exporter": "python",
   "pygments_lexer": "ipython2",
   "version": "2.7.6"
  }
 },
 "nbformat": 4,
 "nbformat_minor": 0
}